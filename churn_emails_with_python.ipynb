{
 "cells": [
  {
   "cell_type": "code",
   "execution_count": 1,
   "metadata": {},
   "outputs": [],
   "source": [
    " #Accessing the Dataset\n",
    "fhand = open('/cxldata/datasets/project/mbox-short.txt')\n",
    "inp = fhand.read()\n",
    "fhand.close()"
   ]
  },
  {
   "cell_type": "code",
   "execution_count": 2,
   "metadata": {},
   "outputs": [
    {
     "data": {
      "text/plain": [
       "1910"
      ]
     },
     "execution_count": 2,
     "metadata": {},
     "output_type": "execute_result"
    }
   ],
   "source": [
    "#Counting number of lines\n",
    "def number_of_lines():\n",
    "    count=0\n",
    "    for x in inp:\n",
    "        if(x =='\\n'):\n",
    "            count+=1\n",
    "    return count\n",
    "\n",
    "number_of_lines()"
   ]
  },
  {
   "cell_type": "code",
   "execution_count": 4,
   "metadata": {},
   "outputs": [
    {
     "data": {
      "text/plain": [
       "27"
      ]
     },
     "execution_count": 4,
     "metadata": {},
     "output_type": "execute_result"
    }
   ],
   "source": [
    "#Counting number of lines starting with 'Subject:'\n",
    "def count_number_of_lines():\n",
    "    count=0\n",
    "    fhand = open('/cxldata/datasets/project/mbox-short.txt')\n",
    "    for line in fhand:\n",
    "        line=line.rstrip()# Remove new line characters from right\n",
    "        if line.startswith('Subject:'):\n",
    "            count+=1\n",
    "    return count        \n",
    "count_number_of_lines()"
   ]
  },
  {
   "cell_type": "code",
   "execution_count": 5,
   "metadata": {},
   "outputs": [
    {
     "data": {
      "text/plain": [
       "0.7507185185185187"
      ]
     },
     "execution_count": 5,
     "metadata": {},
     "output_type": "execute_result"
    }
   ],
   "source": [
    "def average_spam_confidence():\n",
    "    fhand= open('/cxldata/datasets/project/mbox-short.txt')\n",
    "    count=0\n",
    "    sum=0\n",
    "    for line in fhand:\n",
    "        line=line.rstrip()\n",
    "        if line.startswith('X-DSPAM-Confidence:'):\n",
    "            var, value = line.split(':')\n",
    "            sum += float(value)\n",
    "            count +=1\n",
    "    return sum/count\n",
    "\n",
    "average_spam_confidence()"
   ]
  },
  {
   "cell_type": "code",
   "execution_count": null,
   "metadata": {},
   "outputs": [],
   "source": []
  },
  {
   "cell_type": "code",
   "execution_count": null,
   "metadata": {},
   "outputs": [],
   "source": []
  }
 ],
 "metadata": {
  "kernelspec": {
   "display_name": "Python 3",
   "language": "python",
   "name": "python3"
  },
  "language_info": {
   "codemirror_mode": {
    "name": "ipython",
    "version": 3
   },
   "file_extension": ".py",
   "mimetype": "text/x-python",
   "name": "python",
   "nbconvert_exporter": "python",
   "pygments_lexer": "ipython3",
   "version": "3.6.8"
  },
  "toc": {
   "base_numbering": 1,
   "nav_menu": {},
   "number_sections": true,
   "sideBar": true,
   "skip_h1_title": false,
   "title_cell": "Table of Contents",
   "title_sidebar": "Contents",
   "toc_cell": false,
   "toc_position": {},
   "toc_section_display": true,
   "toc_window_display": false
  }
 },
 "nbformat": 4,
 "nbformat_minor": 2
}
